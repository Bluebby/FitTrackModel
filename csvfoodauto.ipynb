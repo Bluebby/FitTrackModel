{
 "cells": [
  {
   "cell_type": "code",
   "execution_count": 8,
   "metadata": {},
   "outputs": [],
   "source": [
    "from openai import OpenAI\n",
    "from dotenv import load_dotenv\n",
    "import os\n",
    "\n",
    "# ✅ Charge la clé depuis le fichier .env\n",
    "load_dotenv()\n",
    "api_key = os.getenv(\"OPENAI_API_KEY\")\n",
    "\n",
    "# ✅ Passe explicitement la clé à l’objet OpenAI\n",
    "client = OpenAI(api_key=api_key)\n"
   ]
  },
  {
   "cell_type": "code",
   "execution_count": 9,
   "metadata": {},
   "outputs": [
    {
     "name": "stdout",
     "output_type": "stream",
     "text": [
      "✅ Réponse de ChatGPT :\n",
      "Il y a environ 20-25g de protéines dans 100g de steak.\n"
     ]
    }
   ],
   "source": [
    "prompt = \"Combien y a-t-il de protéines dans 100g de steak ? Donne une réponse simple et directe en grammes.\"\n",
    "\n",
    "try:\n",
    "    response = client.chat.completions.create(\n",
    "        model=\"gpt-3.5-turbo\",\n",
    "        messages=[{\"role\": \"user\", \"content\": prompt}]\n",
    "    )\n",
    "    print(\"✅ Réponse de ChatGPT :\")\n",
    "    print(response.choices[0].message.content)\n",
    "except Exception as e:\n",
    "    print(\"❌ Erreur avec l'API :\", e)\n"
   ]
  },
  {
   "cell_type": "code",
   "execution_count": 11,
   "metadata": {},
   "outputs": [
    {
     "name": "stderr",
     "output_type": "stream",
     "text": [
      "  0%|          | 0/10 [00:00<?, ?it/s]"
     ]
    },
    {
     "name": "stderr",
     "output_type": "stream",
     "text": [
      "100%|██████████| 10/10 [00:04<00:00,  2.37it/s]"
     ]
    },
    {
     "name": "stdout",
     "output_type": "stream",
     "text": [
      "✅ Données nutritionnelles complétées et sauvegardées dans food_completed.csv\n"
     ]
    },
    {
     "name": "stderr",
     "output_type": "stream",
     "text": [
      "\n"
     ]
    }
   ],
   "source": [
    "from openai import OpenAI\n",
    "import pandas as pd\n",
    "import os\n",
    "from dotenv import load_dotenv\n",
    "from tqdm import tqdm\n",
    "\n",
    "# Charger la clé API depuis le fichier .env\n",
    "load_dotenv()\n",
    "client = OpenAI(api_key=os.getenv(\"OPENAI_API_KEY\"))\n",
    "\n",
    "# Lire le fichier CSV avec encodage\n",
    "df = pd.read_csv(\"data/food/food.csv\", encoding=\"ISO-8859-1\")\n",
    "\n",
    "# Colonnes à compléter\n",
    "nutrients = [\n",
    "    \"calories\", \"Protéines\", \"glucides\", \"dont_sucres\",\n",
    "    \"lipides\", \"dont_acides_gras_satures\", \"fibres\", \"sel\", \"eau\"\n",
    "]\n",
    "\n",
    "# Fonction qui appelle l'API pour un aliment donné\n",
    "def get_nutrition(aliment, poids):\n",
    "    prompt = (\n",
    "        f\"Peux-tu me donner les valeurs nutritionnelles moyennes pour {poids}g de {aliment} \"\n",
    "        f\"(en format dictionnaire Python) avec les champs suivants : \"\n",
    "        f\"calories(kcal), Protéines(g), glucides(g), dont_sucres(g), lipides(g), dont_acides_gras_satures(g), fibres(g), sel(g), eau(ml).\"\n",
    "    )\n",
    "    try:\n",
    "        response = client.chat.completions.create(\n",
    "            model=\"gpt-3.5-turbo\",\n",
    "            messages=[{\"role\": \"user\", \"content\": prompt}],\n",
    "            temperature=0.3\n",
    "        )\n",
    "        content = response.choices[0].message.content\n",
    "        data = eval(content)  # ⚠️ Assuré uniquement si on fait confiance à la réponse GPT\n",
    "        return data\n",
    "    except Exception as e:\n",
    "        print(f\"Erreur pour {aliment} ({poids}g) : {e}\")\n",
    "        return {}\n",
    "\n",
    "# Boucle sur chaque ligne pour compléter si valeurs manquantes\n",
    "for idx, row in tqdm(df.iterrows(), total=len(df)):\n",
    "    aliment = row[\"aliments\"]\n",
    "    try:\n",
    "        poids_unitaire = float(row[\"poid aliments(gr)\"])\n",
    "        quantite = float(row[\"quantite\"])\n",
    "        poids_total = int(poids_unitaire * quantite)\n",
    "    except:\n",
    "        continue  # Skip si données invalides\n",
    "\n",
    "    # Ne pas refaire si calories déjà présentes\n",
    "    if not pd.isnull(row[\"calories(kcal)\"]):\n",
    "        continue\n",
    "\n",
    "    result = get_nutrition(aliment, poids_total)\n",
    "    for nut in nutrients:\n",
    "        if nut in result:\n",
    "            df.at[idx, nut] = result[nut]\n",
    "\n",
    "# Sauvegarde du nouveau fichier\n",
    "df.to_csv(\"food_completed.csv\", index=False)\n",
    "print(\"✅ Données nutritionnelles complétées et sauvegardées dans food_completed.csv\")\n"
   ]
  },
  {
   "cell_type": "code",
   "execution_count": 13,
   "metadata": {},
   "outputs": [
    {
     "name": "stderr",
     "output_type": "stream",
     "text": [
      "100%|██████████| 10/10 [00:13<00:00,  1.40s/it]"
     ]
    },
    {
     "name": "stdout",
     "output_type": "stream",
     "text": [
      "✅ Fichier complété avec succès : food_completed.csv\n"
     ]
    },
    {
     "name": "stderr",
     "output_type": "stream",
     "text": [
      "\n"
     ]
    }
   ],
   "source": [
    "from openai import OpenAI\n",
    "import pandas as pd\n",
    "import os\n",
    "from dotenv import load_dotenv\n",
    "from tqdm import tqdm\n",
    "\n",
    "# Chargement de la clé API\n",
    "load_dotenv()\n",
    "client = OpenAI(api_key=os.getenv(\"OPENAI_API_KEY\"))\n",
    "\n",
    "# Chargement du CSV\n",
    "df = pd.read_csv(\"data/food/food.csv\", encoding=\"ISO-8859-1\")\n",
    "\n",
    "# Colonnes nutritionnelles à compléter\n",
    "nutrients = [\n",
    "    \"calories\", \"Protéines\", \"glucides\", \"dont_sucres\",\n",
    "    \"lipides\", \"dont_acides_gras_satures\", \"fibres\", \"sel\", \"eau\"\n",
    "]\n",
    "\n",
    "def get_nutrition(aliment, quantite=None, poids=None):\n",
    "    # Vérifie proprement si les valeurs ne sont pas NaN\n",
    "    has_poids = pd.notnull(poids)\n",
    "    has_quantite = pd.notnull(quantite)\n",
    "\n",
    "    if has_poids and has_quantite:\n",
    "        description = f\"{int(poids * quantite)}g de {aliment}\"\n",
    "    elif has_poids and not has_quantite:\n",
    "        description = f\"{int(poids)}g de {aliment}\"\n",
    "    elif has_quantite and not has_poids:\n",
    "        description = f\"{int(quantite)} {aliment}\"  # ex : 2 œufs\n",
    "    else:\n",
    "        return {}\n",
    "\n",
    "    prompt = (\n",
    "        f\"Donne les valeurs nutritionnelles moyennes pour {description} \"\n",
    "        f\"sous forme de dictionnaire Python avec ces clés : \"\n",
    "        f\"calories (kcal), Protéines (g), glucides (g), dont_sucres (g), lipides (g), \"\n",
    "        f\"dont_acides_gras_satures (g), fibres (g), sel (g), eau (ml).\"\n",
    "    )\n",
    "\n",
    "    try:\n",
    "        response = client.chat.completions.create(\n",
    "            model=\"gpt-3.5-turbo\",\n",
    "            messages=[{\"role\": \"user\", \"content\": prompt}],\n",
    "            temperature=0.3\n",
    "        )\n",
    "        reply = response.choices[0].message.content\n",
    "        return eval(reply)\n",
    "    except Exception as e:\n",
    "        print(f\"❌ Erreur pour {description} : {e}\")\n",
    "        return {}\n",
    "\n",
    "\n",
    "# Remplissage du DataFrame\n",
    "for idx, row in tqdm(df.iterrows(), total=len(df)):\n",
    "    if not pd.isnull(row[\"calories(kcal)\"]):\n",
    "        continue\n",
    "\n",
    "    aliment = row[\"aliments\"]\n",
    "\n",
    "    try:\n",
    "        poids = float(row.get(\"poid aliments(gr)\", None))\n",
    "    except:\n",
    "        poids = None\n",
    "\n",
    "    try:\n",
    "        quantite = float(row.get(\"quantite\", None))\n",
    "    except:\n",
    "        quantite = None\n",
    "\n",
    "    # Skip si les deux sont manquants\n",
    "    if poids is None and quantite is None:\n",
    "        print(f\"⏭️ Ignoré : pas d'infos sur '{aliment}' (ligne {idx})\")\n",
    "        continue\n",
    "\n",
    "    result = get_nutrition(aliment, quantite=quantite, poids=poids)\n",
    "\n",
    "    for nut in nutrients:\n",
    "        if nut in result:\n",
    "            df.at[idx, nut] = result[nut]\n",
    "\n",
    "# Sauvegarde finale\n",
    "df.to_csv(\"food_completed.csv\", index=False)\n",
    "print(\"✅ Fichier complété avec succès : food_completed.csv\")"
   ]
  }
 ],
 "metadata": {
  "kernelspec": {
   "display_name": "envMuscle",
   "language": "python",
   "name": "python3"
  },
  "language_info": {
   "codemirror_mode": {
    "name": "ipython",
    "version": 3
   },
   "file_extension": ".py",
   "mimetype": "text/x-python",
   "name": "python",
   "nbconvert_exporter": "python",
   "pygments_lexer": "ipython3",
   "version": "3.11.0"
  }
 },
 "nbformat": 4,
 "nbformat_minor": 2
}
